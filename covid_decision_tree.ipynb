{
  "nbformat": 4,
  "nbformat_minor": 0,
  "metadata": {
    "colab": {
      "name": "covid-decision-tree.ipynb",
      "provenance": [],
      "collapsed_sections": [],
      "authorship_tag": "ABX9TyNnCFXQ4S7lKqBS8v+v6trb",
      "include_colab_link": true
    },
    "kernelspec": {
      "name": "python3",
      "display_name": "Python 3"
    }
  },
  "cells": [
    {
      "cell_type": "markdown",
      "metadata": {
        "id": "view-in-github",
        "colab_type": "text"
      },
      "source": [
        "<a href=\"https://colab.research.google.com/github/ambolt314/covid-decision-tree/blob/main/covid_decision_tree.ipynb\" target=\"_parent\"><img src=\"https://colab.research.google.com/assets/colab-badge.svg\" alt=\"Open In Colab\"/></a>"
      ]
    },
    {
      "cell_type": "code",
      "metadata": {
        "id": "IVytyGIuaHs0",
        "outputId": "a1683fb0-0967-433c-e3d5-99aba9688f74",
        "colab": {
          "resources": {
            "http://localhost:8080/nbextensions/google.colab/files.js": {
              "data": "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",
              "ok": true,
              "headers": [
                [
                  "content-type",
                  "application/javascript"
                ]
              ],
              "status": 200,
              "status_text": "OK"
            }
          },
          "base_uri": "https://localhost:8080/",
          "height": 75
        }
      },
      "source": [
        "# load in the dataset\n",
        "from google.colab import files\n",
        "uploaded = files.upload()"
      ],
      "execution_count": 35,
      "outputs": [
        {
          "output_type": "display_data",
          "data": {
            "text/html": [
              "\n",
              "     <input type=\"file\" id=\"files-bbeae6ac-0ee2-4bf0-bb12-225d38218acd\" name=\"files[]\" multiple disabled\n",
              "        style=\"border:none\" />\n",
              "     <output id=\"result-bbeae6ac-0ee2-4bf0-bb12-225d38218acd\">\n",
              "      Upload widget is only available when the cell has been executed in the\n",
              "      current browser session. Please rerun this cell to enable.\n",
              "      </output>\n",
              "      <script src=\"/nbextensions/google.colab/files.js\"></script> "
            ],
            "text/plain": [
              "<IPython.core.display.HTML object>"
            ]
          },
          "metadata": {
            "tags": []
          }
        },
        {
          "output_type": "stream",
          "text": [
            "Saving SID_1934573_raw data.csv to SID_1934573_raw data (4).csv\n"
          ],
          "name": "stdout"
        }
      ]
    },
    {
      "cell_type": "code",
      "metadata": {
        "id": "WoDAjHuzL-oS",
        "outputId": "e0aa7648-8af8-4ad7-d739-a62401f27e5e",
        "colab": {
          "base_uri": "https://localhost:8080/"
        }
      },
      "source": [
        "import pandas as pd\n",
        "raw_covid_data = pd.read_csv(\"SID_1934573_raw data.csv\", na_values=\".\")\n",
        "print(raw_covid_data)\n",
        "headers = list(raw_covid_data.columns)\n",
        "print(\"Headers: \", headers)"
      ],
      "execution_count": 36,
      "outputs": [
        {
          "output_type": "stream",
          "text": [
            "    Subject ID,Fever,Cough,Fatigue,Sore Throat,Runny Nose,Headache,Chest pain,Chills,Loss of smell or taste,COVID-19 diagnosis\n",
            "0    1,TRUE,TRUE,TRUE,FALSE,FALSE,FALSE,FALSE,FALSE...                                                                        \n",
            "1    2,FALSE,FALSE,FALSE,FALSE,FALSE,FALSE,FALSE,FA...                                                                        \n",
            "2    3,FALSE,FALSE,FALSE,FALSE,FALSE,FALSE,FALSE,FA...                                                                        \n",
            "3    4,FALSE,TRUE,FALSE,TRUE,FALSE,FALSE,FALSE,FALS...                                                                        \n",
            "4    5,FALSE,FALSE,FALSE,TRUE,FALSE,FALSE,TRUE,FALS...                                                                        \n",
            "..                                                 ...                                                                        \n",
            "245                                      246,,,,,,,,,,                                                                        \n",
            "246                                      247,,,,,,,,,,                                                                        \n",
            "247                                      248,,,,,,,,,,                                                                        \n",
            "248                                      249,,,,,,,,,,                                                                        \n",
            "249                                      250,,,,,,,,,,                                                                        \n",
            "\n",
            "[250 rows x 1 columns]\n",
            "Headers:  ['Subject ID,Fever,Cough,Fatigue,Sore Throat,Runny Nose,Headache,Chest pain,Chills,Loss of smell or taste,COVID-19 diagnosis']\n"
          ],
          "name": "stdout"
        }
      ]
    },
    {
      "cell_type": "code",
      "metadata": {
        "id": "ILt9pO6uMTCK",
        "outputId": "df5f0c3c-5ea0-4c35-f2a8-ad84b94ea3b7",
        "colab": {
          "base_uri": "https://localhost:8080/"
        }
      },
      "source": [
        "# parse dataset\n",
        "import numpy as np\n",
        "def convert_to_arrays(data):\n",
        "  numpy_arr = data.to_numpy()\n",
        "\n",
        "  output = [headers]\n",
        "\n",
        "  for item in numpy_arr:\n",
        "    new_item = []\n",
        "\n",
        "    for column in \n",
        "\n",
        "    \n"
      ],
      "execution_count": 31,
      "outputs": [
        {
          "output_type": "stream",
          "text": [
            "[['1,TRUE,TRUE,TRUE,FALSE,FALSE,FALSE,FALSE,FALSE,TRUE,POSITIVE']\n",
            " ['2,FALSE,FALSE,FALSE,FALSE,FALSE,FALSE,FALSE,FALSE,FALSE,NEGATIVE']\n",
            " ['3,FALSE,FALSE,FALSE,FALSE,FALSE,FALSE,FALSE,FALSE,FALSE,POSITIVE']\n",
            " ['4,FALSE,TRUE,FALSE,TRUE,FALSE,FALSE,FALSE,FALSE,FALSE,POSITIVE']\n",
            " ['5,FALSE,FALSE,FALSE,TRUE,FALSE,FALSE,TRUE,FALSE,FALSE,POSITIVE']\n",
            " ['6,FALSE,FALSE,FALSE,FALSE,FALSE,FALSE,TRUE,FALSE,FALSE,NEGATIVE']\n",
            " ['7,FALSE,FALSE,FALSE,FALSE,FALSE,FALSE,FALSE,TRUE,FALSE,NEGATIVE']\n",
            " ['8,FALSE,TRUE,TRUE,FALSE,FALSE,TRUE,FALSE,TRUE,FALSE,POSITIVE']\n",
            " ['9,TRUE,TRUE,TRUE,TRUE,TRUE,TRUE,TRUE,TRUE,TRUE,POSITIVE']\n",
            " ['10,FALSE,FALSE,FALSE,FALSE,FALSE,TRUE,FALSE,FALSE,TRUE,POSITIVE']\n",
            " ['11,,,,,,,,,,']\n",
            " ['12,,,,,,,,,,']\n",
            " ['13,,,,,,,,,,']\n",
            " ['14,,,,,,,,,,']\n",
            " ['15,,,,,,,,,,']\n",
            " ['16,,,,,,,,,,']\n",
            " ['17,,,,,,,,,,']\n",
            " ['18,,,,,,,,,,']\n",
            " ['19,,,,,,,,,,']\n",
            " ['20,,,,,,,,,,']\n",
            " ['21,,,,,,,,,,']\n",
            " ['22,,,,,,,,,,']\n",
            " ['23,,,,,,,,,,']\n",
            " ['24,,,,,,,,,,']\n",
            " ['25,,,,,,,,,,']\n",
            " ['26,,,,,,,,,,']\n",
            " ['27,,,,,,,,,,']\n",
            " ['28,,,,,,,,,,']\n",
            " ['29,,,,,,,,,,']\n",
            " ['30,,,,,,,,,,']\n",
            " ['31,,,,,,,,,,']\n",
            " ['32,,,,,,,,,,']\n",
            " ['33,,,,,,,,,,']\n",
            " ['34,,,,,,,,,,']\n",
            " ['35,,,,,,,,,,']\n",
            " ['36,,,,,,,,,,']\n",
            " ['37,,,,,,,,,,']\n",
            " ['38,,,,,,,,,,']\n",
            " ['39,,,,,,,,,,']\n",
            " ['40,,,,,,,,,,']\n",
            " ['41,,,,,,,,,,']\n",
            " ['42,,,,,,,,,,']\n",
            " ['43,,,,,,,,,,']\n",
            " ['44,,,,,,,,,,']\n",
            " ['45,,,,,,,,,,']\n",
            " ['46,,,,,,,,,,']\n",
            " ['47,,,,,,,,,,']\n",
            " ['48,,,,,,,,,,']\n",
            " ['49,,,,,,,,,,']\n",
            " ['50,,,,,,,,,,']\n",
            " ['51,,,,,,,,,,']\n",
            " ['52,,,,,,,,,,']\n",
            " ['53,,,,,,,,,,']\n",
            " ['54,,,,,,,,,,']\n",
            " ['55,,,,,,,,,,']\n",
            " ['56,,,,,,,,,,']\n",
            " ['57,,,,,,,,,,']\n",
            " ['58,,,,,,,,,,']\n",
            " ['59,,,,,,,,,,']\n",
            " ['60,,,,,,,,,,']\n",
            " ['61,,,,,,,,,,']\n",
            " ['62,,,,,,,,,,']\n",
            " ['63,,,,,,,,,,']\n",
            " ['64,,,,,,,,,,']\n",
            " ['65,,,,,,,,,,']\n",
            " ['66,,,,,,,,,,']\n",
            " ['67,,,,,,,,,,']\n",
            " ['68,,,,,,,,,,']\n",
            " ['69,,,,,,,,,,']\n",
            " ['70,,,,,,,,,,']\n",
            " ['71,,,,,,,,,,']\n",
            " ['72,,,,,,,,,,']\n",
            " ['73,,,,,,,,,,']\n",
            " ['74,,,,,,,,,,']\n",
            " ['75,,,,,,,,,,']\n",
            " ['76,,,,,,,,,,']\n",
            " ['77,,,,,,,,,,']\n",
            " ['78,,,,,,,,,,']\n",
            " ['79,,,,,,,,,,']\n",
            " ['80,,,,,,,,,,']\n",
            " ['81,,,,,,,,,,']\n",
            " ['82,,,,,,,,,,']\n",
            " ['83,,,,,,,,,,']\n",
            " ['84,,,,,,,,,,']\n",
            " ['85,,,,,,,,,,']\n",
            " ['86,,,,,,,,,,']\n",
            " ['87,,,,,,,,,,']\n",
            " ['88,,,,,,,,,,']\n",
            " ['89,,,,,,,,,,']\n",
            " ['90,,,,,,,,,,']\n",
            " ['91,,,,,,,,,,']\n",
            " ['92,,,,,,,,,,']\n",
            " ['93,,,,,,,,,,']\n",
            " ['94,,,,,,,,,,']\n",
            " ['95,,,,,,,,,,']\n",
            " ['96,,,,,,,,,,']\n",
            " ['97,,,,,,,,,,']\n",
            " ['98,,,,,,,,,,']\n",
            " ['99,,,,,,,,,,']\n",
            " ['100,,,,,,,,,,']\n",
            " ['101,,,,,,,,,,']\n",
            " ['102,,,,,,,,,,']\n",
            " ['103,,,,,,,,,,']\n",
            " ['104,,,,,,,,,,']\n",
            " ['105,,,,,,,,,,']\n",
            " ['106,,,,,,,,,,']\n",
            " ['107,,,,,,,,,,']\n",
            " ['108,,,,,,,,,,']\n",
            " ['109,,,,,,,,,,']\n",
            " ['110,,,,,,,,,,']\n",
            " ['111,,,,,,,,,,']\n",
            " ['112,,,,,,,,,,']\n",
            " ['113,,,,,,,,,,']\n",
            " ['114,,,,,,,,,,']\n",
            " ['115,,,,,,,,,,']\n",
            " ['116,,,,,,,,,,']\n",
            " ['117,,,,,,,,,,']\n",
            " ['118,,,,,,,,,,']\n",
            " ['119,,,,,,,,,,']\n",
            " ['120,,,,,,,,,,']\n",
            " ['121,,,,,,,,,,']\n",
            " ['122,,,,,,,,,,']\n",
            " ['123,,,,,,,,,,']\n",
            " ['124,,,,,,,,,,']\n",
            " ['125,,,,,,,,,,']\n",
            " ['126,,,,,,,,,,']\n",
            " ['127,,,,,,,,,,']\n",
            " ['128,,,,,,,,,,']\n",
            " ['129,,,,,,,,,,']\n",
            " ['130,,,,,,,,,,']\n",
            " ['131,,,,,,,,,,']\n",
            " ['132,,,,,,,,,,']\n",
            " ['133,,,,,,,,,,']\n",
            " ['134,,,,,,,,,,']\n",
            " ['135,,,,,,,,,,']\n",
            " ['136,,,,,,,,,,']\n",
            " ['137,,,,,,,,,,']\n",
            " ['138,,,,,,,,,,']\n",
            " ['139,,,,,,,,,,']\n",
            " ['140,,,,,,,,,,']\n",
            " ['141,,,,,,,,,,']\n",
            " ['142,,,,,,,,,,']\n",
            " ['143,,,,,,,,,,']\n",
            " ['144,,,,,,,,,,']\n",
            " ['145,,,,,,,,,,']\n",
            " ['146,,,,,,,,,,']\n",
            " ['147,,,,,,,,,,']\n",
            " ['148,,,,,,,,,,']\n",
            " ['149,,,,,,,,,,']\n",
            " ['150,,,,,,,,,,']\n",
            " ['151,,,,,,,,,,']\n",
            " ['152,,,,,,,,,,']\n",
            " ['153,,,,,,,,,,']\n",
            " ['154,,,,,,,,,,']\n",
            " ['155,,,,,,,,,,']\n",
            " ['156,,,,,,,,,,']\n",
            " ['157,,,,,,,,,,']\n",
            " ['158,,,,,,,,,,']\n",
            " ['159,,,,,,,,,,']\n",
            " ['160,,,,,,,,,,']\n",
            " ['161,,,,,,,,,,']\n",
            " ['162,,,,,,,,,,']\n",
            " ['163,,,,,,,,,,']\n",
            " ['164,,,,,,,,,,']\n",
            " ['165,,,,,,,,,,']\n",
            " ['166,,,,,,,,,,']\n",
            " ['167,,,,,,,,,,']\n",
            " ['168,,,,,,,,,,']\n",
            " ['169,,,,,,,,,,']\n",
            " ['170,,,,,,,,,,']\n",
            " ['171,,,,,,,,,,']\n",
            " ['172,,,,,,,,,,']\n",
            " ['173,,,,,,,,,,']\n",
            " ['174,,,,,,,,,,']\n",
            " ['175,,,,,,,,,,']\n",
            " ['176,,,,,,,,,,']\n",
            " ['177,,,,,,,,,,']\n",
            " ['178,,,,,,,,,,']\n",
            " ['179,,,,,,,,,,']\n",
            " ['180,,,,,,,,,,']\n",
            " ['181,,,,,,,,,,']\n",
            " ['182,,,,,,,,,,']\n",
            " ['183,,,,,,,,,,']\n",
            " ['184,,,,,,,,,,']\n",
            " ['185,,,,,,,,,,']\n",
            " ['186,,,,,,,,,,']\n",
            " ['187,,,,,,,,,,']\n",
            " ['188,,,,,,,,,,']\n",
            " ['189,,,,,,,,,,']\n",
            " ['190,,,,,,,,,,']\n",
            " ['191,,,,,,,,,,']\n",
            " ['192,,,,,,,,,,']\n",
            " ['193,,,,,,,,,,']\n",
            " ['194,,,,,,,,,,']\n",
            " ['195,,,,,,,,,,']\n",
            " ['196,,,,,,,,,,']\n",
            " ['197,,,,,,,,,,']\n",
            " ['198,,,,,,,,,,']\n",
            " ['199,,,,,,,,,,']\n",
            " ['200,,,,,,,,,,']\n",
            " ['201,,,,,,,,,,']\n",
            " ['202,,,,,,,,,,']\n",
            " ['203,,,,,,,,,,']\n",
            " ['204,,,,,,,,,,']\n",
            " ['205,,,,,,,,,,']\n",
            " ['206,,,,,,,,,,']\n",
            " ['207,,,,,,,,,,']\n",
            " ['208,,,,,,,,,,']\n",
            " ['209,,,,,,,,,,']\n",
            " ['210,,,,,,,,,,']\n",
            " ['211,,,,,,,,,,']\n",
            " ['212,,,,,,,,,,']\n",
            " ['213,,,,,,,,,,']\n",
            " ['214,,,,,,,,,,']\n",
            " ['215,,,,,,,,,,']\n",
            " ['216,,,,,,,,,,']\n",
            " ['217,,,,,,,,,,']\n",
            " ['218,,,,,,,,,,']\n",
            " ['219,,,,,,,,,,']\n",
            " ['220,,,,,,,,,,']\n",
            " ['221,,,,,,,,,,']\n",
            " ['222,,,,,,,,,,']\n",
            " ['223,,,,,,,,,,']\n",
            " ['224,,,,,,,,,,']\n",
            " ['225,,,,,,,,,,']\n",
            " ['226,,,,,,,,,,']\n",
            " ['227,,,,,,,,,,']\n",
            " ['228,,,,,,,,,,']\n",
            " ['229,,,,,,,,,,']\n",
            " ['230,,,,,,,,,,']\n",
            " ['231,,,,,,,,,,']\n",
            " ['232,,,,,,,,,,']\n",
            " ['233,,,,,,,,,,']\n",
            " ['234,,,,,,,,,,']\n",
            " ['235,,,,,,,,,,']\n",
            " ['236,,,,,,,,,,']\n",
            " ['237,,,,,,,,,,']\n",
            " ['238,,,,,,,,,,']\n",
            " ['239,,,,,,,,,,']\n",
            " ['240,,,,,,,,,,']\n",
            " ['241,,,,,,,,,,']\n",
            " ['242,,,,,,,,,,']\n",
            " ['243,,,,,,,,,,']\n",
            " ['244,,,,,,,,,,']\n",
            " ['245,,,,,,,,,,']\n",
            " ['246,,,,,,,,,,']\n",
            " ['247,,,,,,,,,,']\n",
            " ['248,,,,,,,,,,']\n",
            " ['249,,,,,,,,,,']\n",
            " ['250,,,,,,,,,,']]\n"
          ],
          "name": "stdout"
        }
      ]
    },
    {
      "cell_type": "code",
      "metadata": {
        "id": "AxiAccy-XTr6",
        "outputId": "5e8d081d-e50a-4848-b590-179660e8b527",
        "colab": {
          "base_uri": "https://localhost:8080/"
        }
      },
      "source": [
        "interpret(raw_covid_data)"
      ],
      "execution_count": 30,
      "outputs": [
        {
          "output_type": "stream",
          "text": [
            "Subject ID,Fever,Cough,Fatigue,Sore Throat,Runny Nose,Headache,Chest pain,Chills,Loss of smell or taste,COVID-19 diagnosis\n"
          ],
          "name": "stdout"
        }
      ]
    },
    {
      "cell_type": "code",
      "metadata": {
        "id": "gsNqMpoINoNv"
      },
      "source": [
        "from sklearn import tree\n",
        "\n",
        "def generate_decision_tree(data):\n",
        "\n",
        "  #separate sample data and result data\n",
        "  class_labels = []\n",
        "  samples = []\n",
        "  for row in data:\n",
        "    class_labels.append(row[10])\n",
        "    samples.append(row[:-1])\n",
        "\n",
        "  #create decision tree\n",
        "  clf = tree.DecisionTreeClassifier()\n",
        "  clf = clf.fit(samples, class_labels)\n",
        "  #plot the decision tree\n",
        "tree.plot_tree(output)\n"
      ],
      "execution_count": 7,
      "outputs": []
    }
  ]
}