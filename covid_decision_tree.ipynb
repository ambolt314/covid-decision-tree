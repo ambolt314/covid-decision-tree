{
  "nbformat": 4,
  "nbformat_minor": 0,
  "metadata": {
    "colab": {
      "name": "covid-decision-tree.ipynb",
      "provenance": [],
      "authorship_tag": "ABX9TyNVqAEVAkakPOhPG/6sTvri",
      "include_colab_link": true
    },
    "kernelspec": {
      "name": "python3",
      "display_name": "Python 3"
    }
  },
  "cells": [
    {
      "cell_type": "markdown",
      "metadata": {
        "id": "view-in-github",
        "colab_type": "text"
      },
      "source": [
        "<a href=\"https://colab.research.google.com/github/ambolt314/covid-decision-tree/blob/main/covid_decision_tree.ipynb\" target=\"_parent\"><img src=\"https://colab.research.google.com/assets/colab-badge.svg\" alt=\"Open In Colab\"/></a>"
      ]
    },
    {
      "cell_type": "code",
      "metadata": {
        "id": "IVytyGIuaHs0"
      },
      "source": [
        "# load in the dataset\n",
        "import csv\n"
      ],
      "execution_count": null,
      "outputs": []
    }
  ]
}